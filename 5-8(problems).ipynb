{
 "cells": [
  {
   "cell_type": "code",
   "execution_count": 21,
   "id": "30cfc80d",
   "metadata": {},
   "outputs": [
    {
     "name": "stdout",
     "output_type": "stream",
     "text": [
      "0\n"
     ]
    }
   ],
   "source": [
    "class Solution(object):\n",
    "    def reverse(self, x):\n",
    "        \"\"\"\n",
    "        :type x: int\n",
    "        :rtype: int\n",
    "        \"\"\"\n",
    "#         result=\"\"\n",
    "        if x>(2**31)-1 or x<(-(2**31)):\n",
    "            return 0\n",
    "        result=str(x)\n",
    "        sign=False\n",
    "        if x<0:\n",
    "            x=-(x)\n",
    "            result=str(x)\n",
    "            sign=True\n",
    "#         while x!=0:\n",
    "#             result+=str(x%10)\n",
    "#             x=int(x/10)\n",
    "        result=result[::-1]\n",
    "        result=int(result)\n",
    "        if sign==True:\n",
    "            if result>(2**31):\n",
    "                return 0\n",
    "            return -(result)\n",
    "        if result>((2**31)-1):\n",
    "            return 0\n",
    "        return result\n",
    "obj=Solution()\n",
    "print(obj.reverse(-9463847412))"
   ]
  },
  {
   "cell_type": "code",
   "execution_count": 83,
   "id": "e73e00b1",
   "metadata": {},
   "outputs": [
    {
     "name": "stdout",
     "output_type": "stream",
     "text": [
      "-12\n"
     ]
    }
   ],
   "source": [
    "class Solution(object):\n",
    "    def myAtoi(self, s):\n",
    "        \"\"\"\n",
    "        :type s: str\n",
    "        :rtype: int\n",
    "        \"\"\"\n",
    "        if len(s)==0:\n",
    "            return 0\n",
    "        j='0123456789'\n",
    "#         sign=\"+-0123456789\"\n",
    "        count=0\n",
    "        result=\"\"\n",
    "        sign=False\n",
    "        digit=False\n",
    "        for sp in range(len(s)-1):\n",
    "            if s[sp]!=\" \":\n",
    "                s=s[sp:len(s)]\n",
    "                break\n",
    "        if s[0]==\"-\" or s[0]==\"+\":\n",
    "            sign=True\n",
    "            for i in range(1,len(s)):\n",
    "                for k in j:\n",
    "                    if k==s[i]:\n",
    "                        digit=True\n",
    "                        break\n",
    "                if digit==True:\n",
    "                    digit=False\n",
    "                    result+=s[i]\n",
    "                else:\n",
    "                    break\n",
    "        else:\n",
    "            for i in range(len(s)):\n",
    "                for k in j:\n",
    "                    if k==s[i]:\n",
    "                        digit=True\n",
    "                        break\n",
    "                if digit==True:\n",
    "                    digit=False\n",
    "                    result+=s[i]\n",
    "                else:\n",
    "                    break\n",
    "        if len(result)!=0 and sign==True:\n",
    "            result=s[0]+result\n",
    "                \n",
    "#         result=s[0:count]\n",
    "#         for i in range(len(s)):\n",
    "#             if i==0:\n",
    "#                 for l in sign:\n",
    "#                     if l==s[i]:\n",
    "#                         digit==True\n",
    "#                         break\n",
    "#             else:\n",
    "#                 for k in j:\n",
    "#                     if k==s[i]:\n",
    "#                         digit==True\n",
    "#                         break\n",
    "#             if digit==True:\n",
    "#                 digit=False\n",
    "#                 result+=s[i]\n",
    "#             else:\n",
    "#                 break\n",
    "        \n",
    "        if result==\"\":\n",
    "            return 0\n",
    "        result=int(result)\n",
    "        if result>((2**31)-1):\n",
    "            return (2**31)-1\n",
    "        elif result<(-(2**31)):\n",
    "            return (-(2**31))\n",
    "        return result\n",
    "obj=Solution()\n",
    "print(obj.myAtoi(\"-12\"))"
   ]
  },
  {
   "cell_type": "code",
   "execution_count": 40,
   "id": "e296e17f",
   "metadata": {},
   "outputs": [
    {
     "name": "stdout",
     "output_type": "stream",
     "text": [
      "True\n"
     ]
    }
   ],
   "source": [
    "class Solution(object):\n",
    "    def isMatch(self, s, p):\n",
    "        \"\"\"\n",
    "        :type s: str\n",
    "        :type p: str\n",
    "        :rtype: bool\n",
    "        \"\"\"\n",
    "        count=0\n",
    "        dup=\"\"\n",
    "        i=0\n",
    "        j=0\n",
    "        if s==p or p==\".*\" or p==\"*.\":\n",
    "            return True\n",
    "            \n",
    "        while i <len(s):\n",
    "            if j>len(p)-1:\n",
    "                return False\n",
    "            elif p[j]!=s[i]:\n",
    "                if p[j]==\".\":\n",
    "                    if j==len(p)-1:\n",
    "                        break\n",
    "                    continue\n",
    "                elif p[j]==\"*\":\n",
    "                    if p[j-1]!=\".\":\n",
    "                        while 1:\n",
    "                            if s[i]!=p[j-1]:\n",
    "                                i-=1\n",
    "                                break\n",
    "                            i+=1\n",
    "                            if i>len(s)-1 and len(p)-1==j:\n",
    "                                return True\n",
    "                    else:\n",
    "                        return True\n",
    "            i+=1\n",
    "            j+=1\n",
    "        if len(s)-1==i and len(p)-1==j:\n",
    "            return True\n",
    "        else:\n",
    "            print(len(s)-1,i,j,len(p)-1)\n",
    "            return False\n",
    "obj=Solution()\n",
    "print(obj.isMatch(\"mississippi\",\"mis*is*ip*.\"))#false"
   ]
  },
  {
   "cell_type": "code",
   "execution_count": 5,
   "id": "a453a620",
   "metadata": {},
   "outputs": [
    {
     "name": "stdout",
     "output_type": "stream",
     "text": [
      "3 0\n",
      "4\n"
     ]
    }
   ],
   "source": [
    "class Solution(object):\n",
    "    def intToRoman(self, num):\n",
    "        \"\"\"\n",
    "        :type num: int\n",
    "        :rtype: str\n",
    "        \"\"\"\n",
    "        # finding length of number\n",
    "        count=0\n",
    "        array=[]\n",
    "        while(num!=0):\n",
    "            array.append(num%10)\n",
    "            num=int(num/10)\n",
    "            count+=1\n",
    "        while():\n",
    "            if i==0:\n",
    "                if array[i]<4:\n",
    "                    result+=\"I\"*array[i]\n",
    "                elif array[i]>=5:\n",
    "                    result+=\"V\"\n",
    "                    temp=array[i]-5\n",
    "                    result+=\"I\"*temp\n",
    "            elif i==1:\n",
    "            elif i==2:\n",
    "            elif i==3:\n",
    "        print(array,num)\n",
    "        return count\n",
    "obj=Solution()\n",
    "print(obj.intToRoman(3749))"
   ]
  },
  {
   "cell_type": "code",
   "execution_count": null,
   "id": "7f8fe912-def3-4a0c-b540-6874a9c1d031",
   "metadata": {},
   "outputs": [],
   "source": []
  }
 ],
 "metadata": {
  "kernelspec": {
   "display_name": "Python 3 (ipykernel)",
   "language": "python",
   "name": "python3"
  },
  "language_info": {
   "codemirror_mode": {
    "name": "ipython",
    "version": 3
   },
   "file_extension": ".py",
   "mimetype": "text/x-python",
   "name": "python",
   "nbconvert_exporter": "python",
   "pygments_lexer": "ipython3",
   "version": "3.11.9"
  }
 },
 "nbformat": 4,
 "nbformat_minor": 5
}
