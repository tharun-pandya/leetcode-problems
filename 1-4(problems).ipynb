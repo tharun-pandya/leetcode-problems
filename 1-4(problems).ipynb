{
 "cells": [
  {
   "cell_type": "code",
   "execution_count": 155,
   "id": "d32111fd",
   "metadata": {
    "scrolled": false
   },
   "outputs": [
    {
     "name": "stdout",
     "output_type": "stream",
     "text": [
      "[1, 2, 3, 4]\n",
      "[1, 2, 3, 4]\n",
      "2.5\n"
     ]
    }
   ],
   "source": [
    "class Solution(object):\n",
    "    def findMedianSortedArrays(self, nums1, nums2):\n",
    "        \"\"\"\n",
    "        :type nums1: List[int]\n",
    "        :type nums2: List[int]\n",
    "        :rtype: float\n",
    "        \"\"\"\n",
    "        nums=nums1+nums2\n",
    "        print(nums)\n",
    "        for i in range(len(nums)):\n",
    "            for j in range(len(nums)):\n",
    "                if nums[i]<nums[j]:\n",
    "                    temp=nums[i]\n",
    "                    nums[i]=nums[j]\n",
    "                    nums[j]=temp\n",
    "        if (len(nums)%2)==0:\n",
    "            ele1=int(len(nums)/2)-1\n",
    "            ele2=int(len(nums)/2)\n",
    "            result=(nums[ele1]+nums[ele2])/2\n",
    "        else:\n",
    "            result=nums[int(len(nums)/2)]\n",
    "        print(nums)\n",
    "        return result\n",
    "obj=Solution()\n",
    "print(obj.findMedianSortedArrays([1,2],[3,4]))"
   ]
  },
  {
   "cell_type": "code",
   "execution_count": 31,
   "id": "c5117ebf",
   "metadata": {},
   "outputs": [
    {
     "name": "stdout",
     "output_type": "stream",
     "text": [
      "3\n"
     ]
    }
   ],
   "source": [
    "#errors 1.start string from the which of common one first 2. without common element then disply total string\n",
    "class Solution(object):\n",
    "    def lengthOfLongestSubstring(self, s):\n",
    "        \"\"\"\n",
    "        :type s: str\n",
    "        :rtype: int\n",
    "        \"\"\"\n",
    "        if len(s)==0:\n",
    "            return 0\n",
    "        elif len(s)==1:\n",
    "            return 1\n",
    "        result=\"\"\n",
    "        ss=\"\"\n",
    "        i=\"\"\n",
    "        j=0\n",
    "        temp=\"\"\n",
    "        for i in s:\n",
    "            if len(ss)!=0:\n",
    "                while j<len(ss):\n",
    "                    if i==ss[j]:\n",
    "                        if len(ss)>len(result):\n",
    "                            result=ss\n",
    "                            ss=ss[j+1:len(ss)]\n",
    "                            break\n",
    "                        else:\n",
    "                            ss=ss[j+1:len(ss)]\n",
    "                            break\n",
    "                    j+=1\n",
    "            j=0\n",
    "            if i!=ss:\n",
    "                ss+=i\n",
    "        if len(result)<len(ss):\n",
    "            return len(ss)\n",
    "        return len(result)\n",
    "obj=Solution()\n",
    "print(obj.lengthOfLongestSubstring(\"dvdf\"))"
   ]
  },
  {
   "cell_type": "code",
   "execution_count": 112,
   "id": "ddbf5767",
   "metadata": {},
   "outputs": [
    {
     "name": "stdout",
     "output_type": "stream",
     "text": [
      "aaaaaaaaaaaaaaaaaaaaaaaaaaaaaaaaaaaaaaaaaaaaaaaaaaaaaaaaaaaaaaaaaaaaaaaaaaaaaaaaaaaaaaaaaaaaaaaaaaaaaaaaaaaaaaaaaaaaaaaaaaaaaaaaaaaaaaaaaaaaaaaaaaaaaaaaaaaaaaaaaaaaaaaaaaaaaaaaaaaaaaaaaaaaaaaaaaaaaaaaaaaaaaaaaaaaaaaaaaaaaaaaaaaaaaaaaaaaaaaaaaaaaaaaaaaaaaaaaaaaaaaaaaaaaaaaaaaaaaaaaaaaaaaaaaaaaaaaaaaaaaaaaaaaaaaaaaaaaaaaaaaaaaaaaaaaaaaaaaaaaaaaaaaaaaaaaaaaaaaaaaaaaaaaaaaaaaaaaaaaaaaaaaaaaaaaaaaaaaaaaaaaaaaaaaaaaaaaaaaaaaaaaaaaaaaaaaaaaaaaaaaaaaaaaaaaaaaaaaaaaaaaaaaaaaaaaaaaaaaaaaaaaaaaaaaaaaaaaaaa\n"
     ]
    }
   ],
   "source": [
    "class Solution(object):\n",
    "    def longestPalindrome(self, s):\n",
    "        \"\"\"\n",
    "        :type s: str\n",
    "        :rtype: str\n",
    "        \"\"\"\n",
    "        if len(s)==0:\n",
    "            return \"\"\n",
    "        elif len(s)==1:\n",
    "            return s\n",
    "        elif len(s)==2:\n",
    "            if s[0]==s[1]:\n",
    "                return s\n",
    "            else:\n",
    "                return s[0]\n",
    "        result=\"\"\n",
    "        i=len(s)-1\n",
    "        j=0\n",
    "        temp1=''\n",
    "        temp2=\"\"\n",
    "        temp=\"\"\n",
    "        while i!=-1:\n",
    "            result+=s[i]\n",
    "            i-=1\n",
    "        i=len(s)-1\n",
    "        if s==result:\n",
    "             return result\n",
    "        else:\n",
    "            while j<len(s):\n",
    "                while i>j:\n",
    "                    if s[j]==s[i]:\n",
    "                        temp1=s[j:i+1]\n",
    "                        temp2=temp1[::-1]\n",
    "                        if temp1==temp2:\n",
    "                            if len(temp)<len(temp1):\n",
    "                                temp=temp1\n",
    "                    i-=1\n",
    "                i=len(s)-1\n",
    "                j+=1\n",
    "        if temp==\"\":\n",
    "            result=int(len(s)/2)\n",
    "            return s[result]\n",
    "        return temp\n",
    "                        \n",
    "obj=Solution()\n",
    "print(obj.longestPalindrome(\"aaaaaaaaaaaaaaaaaaaaaaaaaaaaaaaaaaaaaaaaaaaaaaaaaaaaaaaaaaaaaaaaaaaaaaaaaaaaaaaaaaaaaaaaaaaaaaaaaaaaaaaaaaaaaaaaaaaaaaaaaaaaaaaaaaaaaaaaaaaaaaaaaaaaaaaaaaaaaaaaaaaaaaaaaaaaaaaaaaaaaaaaaaaaaaaaaaaaaaaaaaaaaaaaaaaaaaaaaaaaaaaaaaaaaaaaaaaaaaaaaaaaaaaaaaaaaaaaaaaaaaaaaaaaaaaaaaaaaaaaaaaaaaaaaaaaaaaaaaaaaaaaaaaaaaaaaaaaaaaaaaaaaaaaaaaaaaaaaaaaaaaaaaaaaaaaaaaaaaaaaaaaaaaaaaaaaaaaaaaaaaaaaaaaaaaaaaaaaaaaaaaaaaaaaaaaaaaaaaaaaaaaaaaaaaaaaaaaaaaaaaaaaaaaaaaaaaaaaaaaaaaaaaaaaaaaaaaaaaaaaaaaaaaaaaaaaaaaaaaabcaaaaaaaaaaaaaaaaaaaaaaaaaaaaaaaaaaaaaaaaaaaaaaaaaaaaaaaaaaaaaaaaaaaaaaaaaaaaaaaaaaaaaaaaaaaaaaaaaaaaaaaaaaaaaaaaaaaaaaaaaaaaaaaaaaaaaaaaaaaaaaaaaaaaaaaaaaaaaaaaaaaaaaaaaaaaaaaaaaaaaaaaaaaaaaaaaaaaaaaaaaaaaaaaaaaaaaaaaaaaaaaaaaaaaaaaaaaaaaaaaaaaaaaaaaaaaaaaaaaaaaaaaaaaaaaaaaaaaaaaaaaaaaaaaaaaaaaaaaaaaaaaaaaaaaaaaaaaaaaaaaaaaaaaaaaaaaaaaaaaaaaaaaaaaaaaaaaaaaaaaaaaaaaaaaaaaaaaaaaaaaaaaaaaaaaaaaaaaaaaaaaaaaaaaaaaaaaaaaaaaaaaaaaaaaaaaaaaaaaaaaaaaaaaaaaaaaaaaaaaaaaaaaaaaaaaaaaaaaaaaaaaaaaaaaaaaaaaaa\"))"
   ]
  },
  {
   "cell_type": "code",
   "execution_count": 113,
   "id": "e54bbee4",
   "metadata": {},
   "outputs": [
    {
     "name": "stdout",
     "output_type": "stream",
     "text": [
      "aaacecaaa\n"
     ]
    }
   ],
   "source": [
    "class Solution(object):\n",
    "    def shortestPalindrome(self, s):\n",
    "        \"\"\"\n",
    "        :type s: str\n",
    "        :rtype: str\n",
    "        \"\"\"\n",
    "        if len(s)==1:\n",
    "            return s\n",
    "        if s==s[::-1]:\n",
    "            return s\n",
    "        temp1=\"\"\n",
    "        temp2=\"\"\n",
    "        result=\"\"\n",
    "        i=len(s)-1\n",
    "        while i>-1:\n",
    "            temp1=s[0:i]\n",
    "            temp2=temp1[::-1]\n",
    "            result+=s[i]\n",
    "            if temp1==temp2:\n",
    "                break\n",
    "            i-=1\n",
    "        return result+s\n",
    "obj=Solution()\n",
    "print(obj.shortestPalindrome(\"aacecaaa\"))"
   ]
  },
  {
   "cell_type": "code",
   "execution_count": null,
   "id": "74a74469",
   "metadata": {},
   "outputs": [],
   "source": []
  }
 ],
 "metadata": {
  "kernelspec": {
   "display_name": "Python 3 (ipykernel)",
   "language": "python",
   "name": "python3"
  },
  "language_info": {
   "codemirror_mode": {
    "name": "ipython",
    "version": 3
   },
   "file_extension": ".py",
   "mimetype": "text/x-python",
   "name": "python",
   "nbconvert_exporter": "python",
   "pygments_lexer": "ipython3",
   "version": "3.11.4"
  }
 },
 "nbformat": 4,
 "nbformat_minor": 5
}
