{
 "cells": [
  {
   "cell_type": "code",
   "execution_count": 11,
   "id": "82b83e38",
   "metadata": {},
   "outputs": [
    {
     "name": "stdout",
     "output_type": "stream",
     "text": [
      "False\n"
     ]
    }
   ],
   "source": [
    "class Solution(object):\n",
    "    def containsDuplicate(self, nums):\n",
    "        \"\"\"\n",
    "        :type nums: List[int]\n",
    "        :rtype: bool\n",
    "        \"\"\"\n",
    "#         comment answer is best solution\n",
    "#         temp=set()\n",
    "#         for i in nums:\n",
    "#             if i in temp:\n",
    "#                 return True\n",
    "#             else:\n",
    "#                 temp.add(i)\n",
    "#         return False\n",
    "        nums.sort()\n",
    "        for i in range(len(nums)-1):\n",
    "            if nums[i]==nums[i+1]:\n",
    "                return True\n",
    "        return False\n",
    "obj=Solution()\n",
    "print(obj.containsDuplicate([1,2,3]))"
   ]
  },
  {
   "cell_type": "code",
   "execution_count": 2,
   "id": "11b2ab97",
   "metadata": {},
   "outputs": [
    {
     "name": "stdout",
     "output_type": "stream",
     "text": [
      "[24, 12, 8, 6]\n"
     ]
    }
   ],
   "source": [
    "class Solution(object):\n",
    "    def productExceptSelf(self, nums):\n",
    "        \"\"\"\n",
    "        :type nums: List[int]\n",
    "        :rtype: List[int]\n",
    "        \"\"\"\n",
    "        answer=[]\n",
    "        n=len(nums)\n",
    "        zeros=[0,0]\n",
    "        total=1\n",
    "        if zeros in nums:\n",
    "            for i in range(n):\n",
    "                answer.append(0)\n",
    "            return answer\n",
    "        elif 0 in nums:\n",
    "            for i in range(n):\n",
    "                temp=1\n",
    "                if nums[i]==0:\n",
    "                    for j in range(n):\n",
    "                        if i==j:\n",
    "                            continue\n",
    "                        temp*=nums[j]\n",
    "                    answer.append(temp)\n",
    "                    continue\n",
    "                answer.append(0)\n",
    "        elif 0 not in nums:\n",
    "            for i in nums:\n",
    "                total*=i\n",
    "            for j in nums:\n",
    "                answer.append(total//j)\n",
    "#         for i in range(len(nums)):\n",
    "#             temp=1\n",
    "#             for j in range(len(nums)):\n",
    "#                 if i==j:\n",
    "#                     continue\n",
    "#                 temp*=nums[j]\n",
    "#             answer.append(temp)\n",
    "        return answer    \n",
    "obj=Solution()\n",
    "print(obj.productExceptSelf([1,2,3,4]))"
   ]
  },
  {
   "cell_type": "code",
   "execution_count": 1,
   "id": "2faead5b",
   "metadata": {},
   "outputs": [
    {
     "name": "stdout",
     "output_type": "stream",
     "text": [
      "2 3 5\n",
      "1\n"
     ]
    }
   ],
   "source": [
    "class Solution(object):\n",
    "    def findMin(self, nums):\n",
    "        \"\"\"\n",
    "        :type nums: List[int]\n",
    "\n",
    "        :rtype: int\n",
    "        \"\"\"\n",
    "        if len(nums)==1:\n",
    "            return nums[0]\n",
    "        low=0\n",
    "        high=len(nums)-1\n",
    "        mid=(low+high)//2\n",
    "        max=0\n",
    "        while 1:\n",
    "            if nums[mid]>nums[mid-1] and nums[mid]>nums[mid+1]:\n",
    "                return nums[mid+1]\n",
    "            elif nums[mid]<nums[mid-1] and nums[mid]<nums[mid+1]:\n",
    "                return nums[mid]\n",
    "            elif mid==low or mid==high:\n",
    "                if nums[mid]<nums[low]:\n",
    "                    max=low\n",
    "                elif nums[mid]<nums[high]:\n",
    "                    max=high\n",
    "                else:\n",
    "                    max=mid\n",
    "                break\n",
    "            elif mid==low+1 and mid==high-1:\n",
    "                if nums[mid]<nums[low]:\n",
    "                    max=low\n",
    "                elif nums[mid]<nums[high]:\n",
    "                    max=high\n",
    "                else:\n",
    "                    max=mid\n",
    "                break\n",
    "            elif nums[mid]<nums[mid+1]:\n",
    "                max=mid+1\n",
    "                low=mid\n",
    "            elif nums[mid]<nums[mid-1]:\n",
    "                max=mid\n",
    "                high=mid\n",
    "            mid=(low+high)//2\n",
    "            print(low,mid,high)\n",
    "        if max+1==len(nums):\n",
    "            if nums[max]>nums[0]:\n",
    "                return nums[0]\n",
    "            else:\n",
    "                i=0\n",
    "                while nums[max]<nums[i]:\n",
    "                    max=i\n",
    "                    i+=1\n",
    "                return nums[max+1]\n",
    "        return nums[max+1]\n",
    "obj=Solution()\n",
    "print(obj.findMin([3,4,5,6,1,2]))"
   ]
  },
  {
   "cell_type": "code",
   "execution_count": 9,
   "id": "5915ef8e-60fe-4cfa-89aa-0c4993e2cdc4",
   "metadata": {},
   "outputs": [
    {
     "name": "stdout",
     "output_type": "stream",
     "text": [
      "3 3 6\n",
      "4 4 6\n",
      "-1\n"
     ]
    }
   ],
   "source": [
    "class Solution(object):\n",
    "    def search(self, nums, target):\n",
    "        \"\"\"\n",
    "        :type nums: List[int]\n",
    "        :type target: int\n",
    "        :rtype: int\n",
    "        \"\"\"\n",
    "        low=0\n",
    "        high=len(nums)-1\n",
    "        mid=(low+high)//2\n",
    "        if len(nums)==1:\n",
    "            if target==nums[0]:\n",
    "                    return 0\n",
    "            return -1 \n",
    "        while 1:\n",
    "            if nums[mid]==target:\n",
    "                return mid\n",
    "            templ=mid\n",
    "            while low!=high:\n",
    "                mid=(templ+high)//2\n",
    "            \n",
    "        return -1\n",
    "obj=Solution()\n",
    "print(obj.search([6,7,1,2,3,4,5],6))"
   ]
  },
  {
   "cell_type": "code",
   "execution_count": 1,
   "id": "98a9f876-b74d-40a2-9a4f-d43975a856c3",
   "metadata": {},
   "outputs": [
    {
     "name": "stdout",
     "output_type": "stream",
     "text": [
      "49\n"
     ]
    }
   ],
   "source": [
    "class Solution(object):\n",
    "    def maxArea(self, height):\n",
    "        \"\"\"\n",
    "        :type height: List[int]\n",
    "        :rtype: int\n",
    "        \"\"\"\n",
    "        area=0\n",
    "        high=len(height)-1\n",
    "        low=0\n",
    "        while 1:\n",
    "            if high==low:\n",
    "                break\n",
    "            space=high-low\n",
    "            if height[high]>height[low]:\n",
    "                output=height[low]*space\n",
    "                low+=1\n",
    "            else:\n",
    "                output=height[high]*space\n",
    "                high-=1\n",
    "            if output>area:\n",
    "                area=output\n",
    "        return area\n",
    "obj=Solution()\n",
    "print(obj.maxArea([1,8,6,2,5,4,8,3,7]))"
   ]
  },
  {
   "cell_type": "code",
   "execution_count": 2,
   "id": "1f43cf16-c725-4bb1-9fe5-ee6acff73e4b",
   "metadata": {},
   "outputs": [
    {
     "name": "stdout",
     "output_type": "stream",
     "text": [
      "5\n"
     ]
    }
   ],
   "source": [
    "class Solution(object):\n",
    "    def maxProfit(self, prices):\n",
    "        \"\"\"\n",
    "        :type prices: List[int]\n",
    "        :rtype: int\n",
    "        \"\"\"\n",
    "        profit=0\n",
    "        low=prices[0]\n",
    "        for price in prices:\n",
    "            if low>price:\n",
    "                low=price\n",
    "            else:\n",
    "                if profit<(price-low):\n",
    "                    profit=price-low\n",
    "        return profit\n",
    "obj=Solution();\n",
    "print(obj.maxProfit([7,1,5,3,6,4]))"
   ]
  },
  {
   "cell_type": "code",
   "execution_count": 5,
   "id": "63e220d5-a793-4374-914b-50e398c8a2d1",
   "metadata": {},
   "outputs": [
    {
     "name": "stdout",
     "output_type": "stream",
     "text": [
      "2\n"
     ]
    }
   ],
   "source": [
    "class Solution(object):\n",
    "    def missingNumber(self, nums):\n",
    "        \"\"\"\n",
    "        :type nums: List[int]\n",
    "        :rtype: int\"\"\"\n",
    "        i=1\n",
    "        while i<=len(nums):\n",
    "            if i not in nums:\n",
    "                return i\n",
    "            i+=1\n",
    "        return 0\n",
    "\n",
    "obj=Solution()\n",
    "print(obj.missingNumber([3,0,1]))"
   ]
  },
  {
   "cell_type": "code",
   "execution_count": 5,
   "id": "4ca1b7d5-4b5b-4a00-b994-bc43fa55077c",
   "metadata": {},
   "outputs": [
    {
     "name": "stdout",
     "output_type": "stream",
     "text": [
      "3\n"
     ]
    }
   ],
   "source": [
    "class Solution(object):\n",
    "    def numIslands(self, grid):\n",
    "        \"\"\"\n",
    "        :type grid: List[List[str]]\n",
    "        :rtype: int\n",
    "        \"\"\"\n",
    "        result=0\n",
    "        for i in range(len(grid)):\n",
    "            for j in range(len(grid[i])):\n",
    "                if (grid[i][j]==\"1\"):\n",
    "                    self.prev_row(i,j,grid)\n",
    "                    grid[i][j]=0\n",
    "                    result+=1\n",
    "        return result\n",
    "    def prev_row(self,row,column,grid):\n",
    "        if row!=0:\n",
    "            prev=row-1\n",
    "            if (grid[prev][column]=='1'):\n",
    "                self.next_row(row,column,grid)\n",
    "    def next_row(self,row,column,grid):\n",
    "        if (row!=(len(grid)-1)):\n",
    "            next=row+1\n",
    "            if (grid[next][column]=='1'):\n",
    "                self.left_col(row,column,grid)\n",
    "    def left_col(\n",
    "obj=Solution()\n",
    "print(obj.numIslands([[\"1\",\"1\",\"1\"],[\"0\",\"1\",\"0\"],[\"1\",\"1\",\"1\"]]))"
   ]
  },
  {
   "cell_type": "code",
   "execution_count": null,
   "id": "f41e51d4-4d9b-4e78-a390-ad2655da4b97",
   "metadata": {},
   "outputs": [],
   "source": []
  }
 ],
 "metadata": {
  "kernelspec": {
   "display_name": "Python 3 (ipykernel)",
   "language": "python",
   "name": "python3"
  },
  "language_info": {
   "codemirror_mode": {
    "name": "ipython",
    "version": 3
   },
   "file_extension": ".py",
   "mimetype": "text/x-python",
   "name": "python",
   "nbconvert_exporter": "python",
   "pygments_lexer": "ipython3",
   "version": "3.11.9"
  }
 },
 "nbformat": 4,
 "nbformat_minor": 5
}
